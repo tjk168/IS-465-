{
  "nbformat": 4,
  "nbformat_minor": 0,
  "metadata": {
    "colab": {
      "name": "In Class Homework 3/6/2020.ipynb",
      "provenance": []
    },
    "kernelspec": {
      "name": "python3",
      "display_name": "Python 3"
    }
  },
  "cells": [
    {
      "cell_type": "markdown",
      "metadata": {
        "id": "Q6N0aMYLIdib",
        "colab_type": "text"
      },
      "source": [
        "Homeowork 3/6/2020, Synonyms and Similar Words"
      ]
    },
    {
      "cell_type": "code",
      "metadata": {
        "id": "QvdEVeNjIkkK",
        "colab_type": "code",
        "colab": {
          "base_uri": "https://localhost:8080/",
          "height": 120
        },
        "outputId": "18660b9d-5542-4a43-f87d-aec813c6203a"
      },
      "source": [
        "import nltk\n",
        "nltk.download('wordnet')\n",
        " \n",
        "from nltk.corpus import wordnet\n",
        "syns = wordnet.synsets(\"dog\")\n",
        "print(syns)\n",
        "\n",
        "from nltk.corpus import wordnet\n",
        "synonyms = []\n",
        "antonyms = []\n",
        "\n",
        "for syn in wordnet.synsets(\"active\"):\n",
        "\t\tfor l in syn.lemmas():\n",
        "\t\t\tsynonyms.append(l.name())\n",
        "\t\t\tif l.antonyms():\n",
        "\t\t\t\t antonyms.append(l.antonyms()[0].name())\n",
        "\n",
        "print(set(synonyms))\n",
        "print(set(antonyms))"
      ],
      "execution_count": 7,
      "outputs": [
        {
          "output_type": "stream",
          "text": [
            "[nltk_data] Downloading package wordnet to /root/nltk_data...\n",
            "[nltk_data]   Unzipping corpora/wordnet.zip.\n",
            "[Synset('dog.n.01'), Synset('frump.n.01'), Synset('dog.n.03'), Synset('cad.n.01'), Synset('frank.n.02'), Synset('pawl.n.01'), Synset('andiron.n.01'), Synset('chase.v.01')]\n",
            "{'combat-ready', 'alive', 'active_voice', 'active', 'dynamic', 'active_agent', 'participating', 'fighting'}\n",
            "{'quiet', 'passive_voice', 'inactive', 'passive', 'stative', 'extinct', 'dormant'}\n"
          ],
          "name": "stdout"
        }
      ]
    },
    {
      "cell_type": "markdown",
      "metadata": {
        "id": "wu-o9i5eMjDz",
        "colab_type": "text"
      },
      "source": [
        "**Explanation of the code**\n",
        "\n",
        "Wordnet is a corpus, so it is imported from the ntlk.corpus\n",
        "\n",
        "List of both synonym and antonym is taken as empty which will be used for appending\n",
        "\n",
        "Synonyms of the word active are searched in the module synsets and are appended in the list synonyms. The same process is repeated for the second one.\n",
        "\n",
        "Output is printed\n",
        "\n",
        "**Conclusion:**\n",
        "\n",
        "WordNet is a lexical database that has been used by a major search engine. From the WordNet, information about a given word or phrase can be calculated such as\n",
        "\n",
        "1-synonym (words having the same meaning)\n",
        "\n",
        "2-hypernyms (The generic term used to designate a class of specifics (i.e., meal is a breakfast), hyponyms (rice is a meal)\n",
        "\n",
        "3-holonyms (proteins, carbohydrates are part of meal)\n",
        "\n",
        "4-meronyms (meal is part of daily food intake)\n",
        "\n",
        "WordNet also provides information on co-ordinate terms, derivates, senses and more. It is used to find the similarities between any two words. It also holds information on the results of the related word. In short or nutshell one can treat it as Dictionary or Thesaurus. Going deeper in wordnet, it is divided into four total subnets such as\n",
        "\n",
        "1) Noun\n",
        "\n",
        "2) Verb\n",
        "\n",
        "3) Adjective\n",
        "\n",
        "4) Adverb\n",
        "\n",
        "It can be used in the area of artificial intelligence for text analysis. With the help of Wordnet, you can create your corpus for spelling checking, language translation, Spam detection and many more.\n",
        "\n",
        "In the same way, you can use this corpus and mold it to work some dynamic functionality. This is just like ready to made corpus for you. You can use it in your way."
      ]
    },
    {
      "cell_type": "code",
      "metadata": {
        "id": "WFxjSnY9OTSw",
        "colab_type": "code",
        "colab": {}
      },
      "source": [
        ""
      ],
      "execution_count": 0,
      "outputs": []
    }
  ]
}